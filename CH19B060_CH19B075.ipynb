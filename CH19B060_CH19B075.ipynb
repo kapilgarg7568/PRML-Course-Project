{
 "cells": [
  {
   "cell_type": "markdown",
   "metadata": {},
   "source": [
    "## Importing all the required libraries in the code"
   ]
  },
  {
   "cell_type": "code",
   "execution_count": 27,
   "metadata": {},
   "outputs": [],
   "source": [
    "import pandas as pd\n",
    "import numpy as np\n",
    "import matplotlib\n",
    "import matplotlib.pyplot as plt\n",
    "import seaborn as sns\n",
    "import sklearn\n",
    "from sklearn import preprocessing\n",
    "import scipy\n",
    "from scipy import stats\n",
    "from sklearn.model_selection import train_test_split\n",
    "from sklearn.linear_model import LogisticRegression\n",
    "from sklearn.neighbors import KNeighborsClassifier\n",
    "from sklearn.naive_bayes import GaussianNB\n",
    "from sklearn.ensemble import RandomForestClassifier\n",
    "from sklearn.ensemble import GradientBoostingClassifier\n",
    "\n",
    "from sklearn.model_selection import GridSearchCV, StratifiedKFold\n",
    "from imblearn.over_sampling import SMOTE\n",
    "from sklearn.metrics import accuracy_score\n",
    "from sklearn.metrics import classification_report\n",
    "from sklearn.metrics import confusion_matrix\n",
    "from sklearn.metrics import precision_score, recall_score\n",
    "\n",
    "from sklearn.pipeline import make_pipeline\n",
    "from sklearn.decomposition import PCA\n",
    "from sklearn.preprocessing import StandardScaler\n",
    "from sklearn.feature_selection import chi2,f_classif\n",
    "from sklearn.feature_selection import SelectKBest\n",
    "\n",
    "%matplotlib inline\n",
    "sns.set(color_codes=True)"
   ]
  },
  {
   "cell_type": "markdown",
   "metadata": {},
   "source": [
    "## Dataset 1 description"
   ]
  },
  {
   "cell_type": "code",
   "execution_count": 2,
   "metadata": {},
   "outputs": [
    {
     "name": "stdout",
     "output_type": "stream",
     "text": [
      "(130, 22285)\n"
     ]
    },
    {
     "data": {
      "text/html": [
       "<div>\n",
       "<style scoped>\n",
       "    .dataframe tbody tr th:only-of-type {\n",
       "        vertical-align: middle;\n",
       "    }\n",
       "\n",
       "    .dataframe tbody tr th {\n",
       "        vertical-align: top;\n",
       "    }\n",
       "\n",
       "    .dataframe thead th {\n",
       "        text-align: right;\n",
       "    }\n",
       "</style>\n",
       "<table border=\"1\" class=\"dataframe\">\n",
       "  <thead>\n",
       "    <tr style=\"text-align: right;\">\n",
       "      <th>ID_REF</th>\n",
       "      <th>gene_1</th>\n",
       "      <th>gene_2</th>\n",
       "      <th>gene_3</th>\n",
       "      <th>gene_4</th>\n",
       "      <th>gene_5</th>\n",
       "      <th>gene_6</th>\n",
       "      <th>gene_7</th>\n",
       "      <th>gene_8</th>\n",
       "      <th>gene_9</th>\n",
       "      <th>gene_10</th>\n",
       "      <th>...</th>\n",
       "      <th>gene_22276</th>\n",
       "      <th>gene_22277</th>\n",
       "      <th>gene_22278</th>\n",
       "      <th>gene_22279</th>\n",
       "      <th>gene_22280</th>\n",
       "      <th>gene_22281</th>\n",
       "      <th>gene_22282</th>\n",
       "      <th>gene_22283</th>\n",
       "      <th>CO: 1</th>\n",
       "      <th>CO: 2</th>\n",
       "    </tr>\n",
       "  </thead>\n",
       "  <tbody>\n",
       "    <tr>\n",
       "      <th>Train_01</th>\n",
       "      <td>12.4440</td>\n",
       "      <td>8.3774</td>\n",
       "      <td>6.7866</td>\n",
       "      <td>10.2851</td>\n",
       "      <td>5.9064</td>\n",
       "      <td>8.3767</td>\n",
       "      <td>8.0356</td>\n",
       "      <td>6.6745</td>\n",
       "      <td>6.2325</td>\n",
       "      <td>6.8450</td>\n",
       "      <td>...</td>\n",
       "      <td>15.6236</td>\n",
       "      <td>15.2785</td>\n",
       "      <td>3.2915</td>\n",
       "      <td>3.6526</td>\n",
       "      <td>2.6412</td>\n",
       "      <td>1.2652</td>\n",
       "      <td>3.0690</td>\n",
       "      <td>2.0271</td>\n",
       "      <td>0.0</td>\n",
       "      <td>1.0</td>\n",
       "    </tr>\n",
       "    <tr>\n",
       "      <th>Train_02</th>\n",
       "      <td>12.2005</td>\n",
       "      <td>7.8592</td>\n",
       "      <td>8.0963</td>\n",
       "      <td>10.4624</td>\n",
       "      <td>4.9582</td>\n",
       "      <td>9.2973</td>\n",
       "      <td>7.0581</td>\n",
       "      <td>6.4607</td>\n",
       "      <td>6.9047</td>\n",
       "      <td>5.8878</td>\n",
       "      <td>...</td>\n",
       "      <td>15.3234</td>\n",
       "      <td>15.1286</td>\n",
       "      <td>3.3811</td>\n",
       "      <td>2.5880</td>\n",
       "      <td>4.4798</td>\n",
       "      <td>4.8098</td>\n",
       "      <td>3.1637</td>\n",
       "      <td>2.4758</td>\n",
       "      <td>0.0</td>\n",
       "      <td>1.0</td>\n",
       "    </tr>\n",
       "    <tr>\n",
       "      <th>Train_03</th>\n",
       "      <td>12.6709</td>\n",
       "      <td>8.6762</td>\n",
       "      <td>7.4812</td>\n",
       "      <td>10.1887</td>\n",
       "      <td>5.2332</td>\n",
       "      <td>9.1721</td>\n",
       "      <td>8.6061</td>\n",
       "      <td>7.0932</td>\n",
       "      <td>6.5940</td>\n",
       "      <td>5.6843</td>\n",
       "      <td>...</td>\n",
       "      <td>15.4604</td>\n",
       "      <td>15.2674</td>\n",
       "      <td>3.1665</td>\n",
       "      <td>3.9743</td>\n",
       "      <td>5.2597</td>\n",
       "      <td>4.3815</td>\n",
       "      <td>2.8034</td>\n",
       "      <td>2.4669</td>\n",
       "      <td>0.0</td>\n",
       "      <td>0.0</td>\n",
       "    </tr>\n",
       "    <tr>\n",
       "      <th>Train_04</th>\n",
       "      <td>11.6619</td>\n",
       "      <td>8.2557</td>\n",
       "      <td>7.9923</td>\n",
       "      <td>10.7705</td>\n",
       "      <td>6.3296</td>\n",
       "      <td>9.3777</td>\n",
       "      <td>8.4776</td>\n",
       "      <td>6.5878</td>\n",
       "      <td>6.0877</td>\n",
       "      <td>6.5169</td>\n",
       "      <td>...</td>\n",
       "      <td>15.5185</td>\n",
       "      <td>15.1655</td>\n",
       "      <td>4.0045</td>\n",
       "      <td>3.8503</td>\n",
       "      <td>5.9114</td>\n",
       "      <td>0.7882</td>\n",
       "      <td>3.1831</td>\n",
       "      <td>3.4820</td>\n",
       "      <td>0.0</td>\n",
       "      <td>0.0</td>\n",
       "    </tr>\n",
       "    <tr>\n",
       "      <th>Train_05</th>\n",
       "      <td>11.8397</td>\n",
       "      <td>8.7971</td>\n",
       "      <td>7.8321</td>\n",
       "      <td>10.2869</td>\n",
       "      <td>5.8389</td>\n",
       "      <td>7.0841</td>\n",
       "      <td>7.3419</td>\n",
       "      <td>7.3167</td>\n",
       "      <td>6.3456</td>\n",
       "      <td>6.1708</td>\n",
       "      <td>...</td>\n",
       "      <td>15.3143</td>\n",
       "      <td>14.9506</td>\n",
       "      <td>3.0514</td>\n",
       "      <td>3.2946</td>\n",
       "      <td>5.1537</td>\n",
       "      <td>3.9179</td>\n",
       "      <td>3.1881</td>\n",
       "      <td>2.9769</td>\n",
       "      <td>0.0</td>\n",
       "      <td>0.0</td>\n",
       "    </tr>\n",
       "  </tbody>\n",
       "</table>\n",
       "<p>5 rows × 22285 columns</p>\n",
       "</div>"
      ],
      "text/plain": [
       "ID_REF     gene_1  gene_2  gene_3   gene_4  gene_5  gene_6  gene_7  gene_8  \\\n",
       "Train_01  12.4440  8.3774  6.7866  10.2851  5.9064  8.3767  8.0356  6.6745   \n",
       "Train_02  12.2005  7.8592  8.0963  10.4624  4.9582  9.2973  7.0581  6.4607   \n",
       "Train_03  12.6709  8.6762  7.4812  10.1887  5.2332  9.1721  8.6061  7.0932   \n",
       "Train_04  11.6619  8.2557  7.9923  10.7705  6.3296  9.3777  8.4776  6.5878   \n",
       "Train_05  11.8397  8.7971  7.8321  10.2869  5.8389  7.0841  7.3419  7.3167   \n",
       "\n",
       "ID_REF    gene_9  gene_10  ...  gene_22276  gene_22277  gene_22278  \\\n",
       "Train_01  6.2325   6.8450  ...     15.6236     15.2785      3.2915   \n",
       "Train_02  6.9047   5.8878  ...     15.3234     15.1286      3.3811   \n",
       "Train_03  6.5940   5.6843  ...     15.4604     15.2674      3.1665   \n",
       "Train_04  6.0877   6.5169  ...     15.5185     15.1655      4.0045   \n",
       "Train_05  6.3456   6.1708  ...     15.3143     14.9506      3.0514   \n",
       "\n",
       "ID_REF    gene_22279  gene_22280  gene_22281  gene_22282  gene_22283  CO: 1  \\\n",
       "Train_01      3.6526      2.6412      1.2652      3.0690      2.0271    0.0   \n",
       "Train_02      2.5880      4.4798      4.8098      3.1637      2.4758    0.0   \n",
       "Train_03      3.9743      5.2597      4.3815      2.8034      2.4669    0.0   \n",
       "Train_04      3.8503      5.9114      0.7882      3.1831      3.4820    0.0   \n",
       "Train_05      3.2946      5.1537      3.9179      3.1881      2.9769    0.0   \n",
       "\n",
       "ID_REF    CO: 2  \n",
       "Train_01    1.0  \n",
       "Train_02    1.0  \n",
       "Train_03    0.0  \n",
       "Train_04    0.0  \n",
       "Train_05    0.0  \n",
       "\n",
       "[5 rows x 22285 columns]"
      ]
     },
     "execution_count": 2,
     "metadata": {},
     "output_type": "execute_result"
    }
   ],
   "source": [
    "gene_data_1=pd.read_csv('Dataset_1_Training.csv',index_col='ID_REF')\n",
    "gene_data_1=gene_data_1.T\n",
    "n1=gene_data_1.shape[1]\n",
    "print(gene_data_1.shape)\n",
    "gene_data_1.head()"
   ]
  },
  {
   "cell_type": "code",
   "execution_count": 3,
   "metadata": {},
   "outputs": [
    {
     "name": "stdout",
     "output_type": "stream",
     "text": [
      "<class 'pandas.core.frame.DataFrame'>\n",
      "Index: 130 entries, Train_01 to Train_130\n",
      "Columns: 22285 entries, gene_1 to CO: 2\n",
      "dtypes: float64(22285)\n",
      "memory usage: 22.1+ MB\n"
     ]
    }
   ],
   "source": [
    "gene_data_1.info()"
   ]
  },
  {
   "cell_type": "code",
   "execution_count": 4,
   "metadata": {},
   "outputs": [
    {
     "data": {
      "text/html": [
       "<div>\n",
       "<style scoped>\n",
       "    .dataframe tbody tr th:only-of-type {\n",
       "        vertical-align: middle;\n",
       "    }\n",
       "\n",
       "    .dataframe tbody tr th {\n",
       "        vertical-align: top;\n",
       "    }\n",
       "\n",
       "    .dataframe thead th {\n",
       "        text-align: right;\n",
       "    }\n",
       "</style>\n",
       "<table border=\"1\" class=\"dataframe\">\n",
       "  <thead>\n",
       "    <tr style=\"text-align: right;\">\n",
       "      <th>ID_REF</th>\n",
       "      <th>CO: 1</th>\n",
       "      <th>CO: 2</th>\n",
       "    </tr>\n",
       "  </thead>\n",
       "  <tbody>\n",
       "    <tr>\n",
       "      <th>count</th>\n",
       "      <td>130.000000</td>\n",
       "      <td>130.000000</td>\n",
       "    </tr>\n",
       "    <tr>\n",
       "      <th>mean</th>\n",
       "      <td>0.253846</td>\n",
       "      <td>0.407692</td>\n",
       "    </tr>\n",
       "    <tr>\n",
       "      <th>std</th>\n",
       "      <td>0.436894</td>\n",
       "      <td>0.493306</td>\n",
       "    </tr>\n",
       "    <tr>\n",
       "      <th>min</th>\n",
       "      <td>0.000000</td>\n",
       "      <td>0.000000</td>\n",
       "    </tr>\n",
       "    <tr>\n",
       "      <th>25%</th>\n",
       "      <td>0.000000</td>\n",
       "      <td>0.000000</td>\n",
       "    </tr>\n",
       "    <tr>\n",
       "      <th>50%</th>\n",
       "      <td>0.000000</td>\n",
       "      <td>0.000000</td>\n",
       "    </tr>\n",
       "    <tr>\n",
       "      <th>75%</th>\n",
       "      <td>0.750000</td>\n",
       "      <td>1.000000</td>\n",
       "    </tr>\n",
       "    <tr>\n",
       "      <th>max</th>\n",
       "      <td>1.000000</td>\n",
       "      <td>1.000000</td>\n",
       "    </tr>\n",
       "  </tbody>\n",
       "</table>\n",
       "</div>"
      ],
      "text/plain": [
       "ID_REF       CO: 1       CO: 2\n",
       "count   130.000000  130.000000\n",
       "mean      0.253846    0.407692\n",
       "std       0.436894    0.493306\n",
       "min       0.000000    0.000000\n",
       "25%       0.000000    0.000000\n",
       "50%       0.000000    0.000000\n",
       "75%       0.750000    1.000000\n",
       "max       1.000000    1.000000"
      ]
     },
     "execution_count": 4,
     "metadata": {},
     "output_type": "execute_result"
    }
   ],
   "source": [
    "gene_data_1.iloc[:,n1-2:n1].describe()"
   ]
  },
  {
   "cell_type": "code",
   "execution_count": 5,
   "metadata": {},
   "outputs": [],
   "source": [
    "data_gene_1=gene_data_1.iloc[:,0:n1-2]"
   ]
  },
  {
   "cell_type": "markdown",
   "metadata": {},
   "source": [
    "## Dataset 2 description"
   ]
  },
  {
   "cell_type": "code",
   "execution_count": 6,
   "metadata": {},
   "outputs": [
    {
     "name": "stdout",
     "output_type": "stream",
     "text": [
      "(340, 54679)\n"
     ]
    },
    {
     "data": {
      "text/html": [
       "<div>\n",
       "<style scoped>\n",
       "    .dataframe tbody tr th:only-of-type {\n",
       "        vertical-align: middle;\n",
       "    }\n",
       "\n",
       "    .dataframe tbody tr th {\n",
       "        vertical-align: top;\n",
       "    }\n",
       "\n",
       "    .dataframe thead th {\n",
       "        text-align: right;\n",
       "    }\n",
       "</style>\n",
       "<table border=\"1\" class=\"dataframe\">\n",
       "  <thead>\n",
       "    <tr style=\"text-align: right;\">\n",
       "      <th>ID_REF</th>\n",
       "      <th>gene_1</th>\n",
       "      <th>gene_2</th>\n",
       "      <th>gene_3</th>\n",
       "      <th>gene_4</th>\n",
       "      <th>gene_5</th>\n",
       "      <th>gene_6</th>\n",
       "      <th>gene_7</th>\n",
       "      <th>gene_8</th>\n",
       "      <th>gene_9</th>\n",
       "      <th>gene_10</th>\n",
       "      <th>...</th>\n",
       "      <th>gene_54670</th>\n",
       "      <th>gene_54671</th>\n",
       "      <th>gene_54672</th>\n",
       "      <th>gene_54673</th>\n",
       "      <th>gene_54674</th>\n",
       "      <th>gene_54675</th>\n",
       "      <th>CO: 3</th>\n",
       "      <th>CO: 4</th>\n",
       "      <th>CO: 5</th>\n",
       "      <th>CO: 6</th>\n",
       "    </tr>\n",
       "  </thead>\n",
       "  <tbody>\n",
       "    <tr>\n",
       "      <th>Train_001</th>\n",
       "      <td>8.2843</td>\n",
       "      <td>8.7174</td>\n",
       "      <td>8.3019</td>\n",
       "      <td>11.8611</td>\n",
       "      <td>4.6883</td>\n",
       "      <td>9.8524</td>\n",
       "      <td>8.2301</td>\n",
       "      <td>4.8406</td>\n",
       "      <td>7.5667</td>\n",
       "      <td>8.4165</td>\n",
       "      <td>...</td>\n",
       "      <td>6.3546</td>\n",
       "      <td>7.2572</td>\n",
       "      <td>3.6080</td>\n",
       "      <td>3.9483</td>\n",
       "      <td>4.5200</td>\n",
       "      <td>4.5195</td>\n",
       "      <td>0.0</td>\n",
       "      <td>0.0</td>\n",
       "      <td>1.0</td>\n",
       "      <td>1.0</td>\n",
       "    </tr>\n",
       "    <tr>\n",
       "      <th>Train_002</th>\n",
       "      <td>9.0419</td>\n",
       "      <td>8.8729</td>\n",
       "      <td>8.4559</td>\n",
       "      <td>11.2112</td>\n",
       "      <td>5.7059</td>\n",
       "      <td>10.2263</td>\n",
       "      <td>7.9439</td>\n",
       "      <td>4.6463</td>\n",
       "      <td>6.1828</td>\n",
       "      <td>7.0852</td>\n",
       "      <td>...</td>\n",
       "      <td>4.9707</td>\n",
       "      <td>6.4847</td>\n",
       "      <td>5.1648</td>\n",
       "      <td>1.8369</td>\n",
       "      <td>3.8223</td>\n",
       "      <td>3.4288</td>\n",
       "      <td>0.0</td>\n",
       "      <td>0.0</td>\n",
       "      <td>1.0</td>\n",
       "      <td>1.0</td>\n",
       "    </tr>\n",
       "    <tr>\n",
       "      <th>Train_003</th>\n",
       "      <td>7.6171</td>\n",
       "      <td>8.3904</td>\n",
       "      <td>8.1184</td>\n",
       "      <td>11.0341</td>\n",
       "      <td>5.8050</td>\n",
       "      <td>9.5912</td>\n",
       "      <td>6.8044</td>\n",
       "      <td>4.0878</td>\n",
       "      <td>8.1184</td>\n",
       "      <td>7.3179</td>\n",
       "      <td>...</td>\n",
       "      <td>3.9571</td>\n",
       "      <td>6.2647</td>\n",
       "      <td>3.4216</td>\n",
       "      <td>4.7911</td>\n",
       "      <td>5.4910</td>\n",
       "      <td>3.8438</td>\n",
       "      <td>0.0</td>\n",
       "      <td>0.0</td>\n",
       "      <td>0.0</td>\n",
       "      <td>1.0</td>\n",
       "    </tr>\n",
       "    <tr>\n",
       "      <th>Train_004</th>\n",
       "      <td>9.6283</td>\n",
       "      <td>8.3840</td>\n",
       "      <td>9.9061</td>\n",
       "      <td>12.0571</td>\n",
       "      <td>5.1193</td>\n",
       "      <td>10.5774</td>\n",
       "      <td>8.1628</td>\n",
       "      <td>5.3257</td>\n",
       "      <td>5.6398</td>\n",
       "      <td>7.6829</td>\n",
       "      <td>...</td>\n",
       "      <td>4.6561</td>\n",
       "      <td>7.5776</td>\n",
       "      <td>6.2385</td>\n",
       "      <td>4.1413</td>\n",
       "      <td>5.3047</td>\n",
       "      <td>5.4693</td>\n",
       "      <td>0.0</td>\n",
       "      <td>0.0</td>\n",
       "      <td>0.0</td>\n",
       "      <td>1.0</td>\n",
       "    </tr>\n",
       "    <tr>\n",
       "      <th>Train_005</th>\n",
       "      <td>10.1735</td>\n",
       "      <td>9.1585</td>\n",
       "      <td>7.9649</td>\n",
       "      <td>11.0843</td>\n",
       "      <td>5.0119</td>\n",
       "      <td>8.7764</td>\n",
       "      <td>8.1379</td>\n",
       "      <td>3.6227</td>\n",
       "      <td>7.7334</td>\n",
       "      <td>7.6336</td>\n",
       "      <td>...</td>\n",
       "      <td>3.7007</td>\n",
       "      <td>3.8720</td>\n",
       "      <td>3.1052</td>\n",
       "      <td>5.4053</td>\n",
       "      <td>5.3599</td>\n",
       "      <td>2.8328</td>\n",
       "      <td>0.0</td>\n",
       "      <td>0.0</td>\n",
       "      <td>0.0</td>\n",
       "      <td>1.0</td>\n",
       "    </tr>\n",
       "  </tbody>\n",
       "</table>\n",
       "<p>5 rows × 54679 columns</p>\n",
       "</div>"
      ],
      "text/plain": [
       "ID_REF      gene_1  gene_2  gene_3   gene_4  gene_5   gene_6  gene_7  gene_8  \\\n",
       "Train_001   8.2843  8.7174  8.3019  11.8611  4.6883   9.8524  8.2301  4.8406   \n",
       "Train_002   9.0419  8.8729  8.4559  11.2112  5.7059  10.2263  7.9439  4.6463   \n",
       "Train_003   7.6171  8.3904  8.1184  11.0341  5.8050   9.5912  6.8044  4.0878   \n",
       "Train_004   9.6283  8.3840  9.9061  12.0571  5.1193  10.5774  8.1628  5.3257   \n",
       "Train_005  10.1735  9.1585  7.9649  11.0843  5.0119   8.7764  8.1379  3.6227   \n",
       "\n",
       "ID_REF     gene_9  gene_10  ...  gene_54670  gene_54671  gene_54672  \\\n",
       "Train_001  7.5667   8.4165  ...      6.3546      7.2572      3.6080   \n",
       "Train_002  6.1828   7.0852  ...      4.9707      6.4847      5.1648   \n",
       "Train_003  8.1184   7.3179  ...      3.9571      6.2647      3.4216   \n",
       "Train_004  5.6398   7.6829  ...      4.6561      7.5776      6.2385   \n",
       "Train_005  7.7334   7.6336  ...      3.7007      3.8720      3.1052   \n",
       "\n",
       "ID_REF     gene_54673  gene_54674  gene_54675  CO: 3  CO: 4  CO: 5  CO: 6  \n",
       "Train_001      3.9483      4.5200      4.5195    0.0    0.0    1.0    1.0  \n",
       "Train_002      1.8369      3.8223      3.4288    0.0    0.0    1.0    1.0  \n",
       "Train_003      4.7911      5.4910      3.8438    0.0    0.0    0.0    1.0  \n",
       "Train_004      4.1413      5.3047      5.4693    0.0    0.0    0.0    1.0  \n",
       "Train_005      5.4053      5.3599      2.8328    0.0    0.0    0.0    1.0  \n",
       "\n",
       "[5 rows x 54679 columns]"
      ]
     },
     "execution_count": 6,
     "metadata": {},
     "output_type": "execute_result"
    }
   ],
   "source": [
    "gene_data_2=pd.read_csv('Dataset_2_Training.csv',index_col='ID_REF')\n",
    "gene_data_2=gene_data_2.T\n",
    "n2=gene_data_2.shape[1]\n",
    "print(gene_data_2.shape)\n",
    "gene_data_2.head()"
   ]
  },
  {
   "cell_type": "code",
   "execution_count": 7,
   "metadata": {},
   "outputs": [
    {
     "name": "stdout",
     "output_type": "stream",
     "text": [
      "<class 'pandas.core.frame.DataFrame'>\n",
      "Index: 340 entries, Train_001 to Train_340\n",
      "Columns: 54679 entries, gene_1 to CO: 6\n",
      "dtypes: float64(54679)\n",
      "memory usage: 141.8+ MB\n"
     ]
    }
   ],
   "source": [
    "gene_data_2.info()"
   ]
  },
  {
   "cell_type": "code",
   "execution_count": 8,
   "metadata": {},
   "outputs": [
    {
     "data": {
      "text/html": [
       "<div>\n",
       "<style scoped>\n",
       "    .dataframe tbody tr th:only-of-type {\n",
       "        vertical-align: middle;\n",
       "    }\n",
       "\n",
       "    .dataframe tbody tr th {\n",
       "        vertical-align: top;\n",
       "    }\n",
       "\n",
       "    .dataframe thead th {\n",
       "        text-align: right;\n",
       "    }\n",
       "</style>\n",
       "<table border=\"1\" class=\"dataframe\">\n",
       "  <thead>\n",
       "    <tr style=\"text-align: right;\">\n",
       "      <th>ID_REF</th>\n",
       "      <th>CO: 3</th>\n",
       "      <th>CO: 4</th>\n",
       "      <th>CO: 5</th>\n",
       "      <th>CO: 6</th>\n",
       "    </tr>\n",
       "  </thead>\n",
       "  <tbody>\n",
       "    <tr>\n",
       "      <th>count</th>\n",
       "      <td>340.000000</td>\n",
       "      <td>340.000000</td>\n",
       "      <td>340.000000</td>\n",
       "      <td>340.000000</td>\n",
       "    </tr>\n",
       "    <tr>\n",
       "      <th>mean</th>\n",
       "      <td>0.244118</td>\n",
       "      <td>0.150000</td>\n",
       "      <td>0.429412</td>\n",
       "      <td>0.588235</td>\n",
       "    </tr>\n",
       "    <tr>\n",
       "      <th>std</th>\n",
       "      <td>0.430196</td>\n",
       "      <td>0.357598</td>\n",
       "      <td>0.495722</td>\n",
       "      <td>0.492878</td>\n",
       "    </tr>\n",
       "    <tr>\n",
       "      <th>min</th>\n",
       "      <td>0.000000</td>\n",
       "      <td>0.000000</td>\n",
       "      <td>0.000000</td>\n",
       "      <td>0.000000</td>\n",
       "    </tr>\n",
       "    <tr>\n",
       "      <th>25%</th>\n",
       "      <td>0.000000</td>\n",
       "      <td>0.000000</td>\n",
       "      <td>0.000000</td>\n",
       "      <td>0.000000</td>\n",
       "    </tr>\n",
       "    <tr>\n",
       "      <th>50%</th>\n",
       "      <td>0.000000</td>\n",
       "      <td>0.000000</td>\n",
       "      <td>0.000000</td>\n",
       "      <td>1.000000</td>\n",
       "    </tr>\n",
       "    <tr>\n",
       "      <th>75%</th>\n",
       "      <td>0.000000</td>\n",
       "      <td>0.000000</td>\n",
       "      <td>1.000000</td>\n",
       "      <td>1.000000</td>\n",
       "    </tr>\n",
       "    <tr>\n",
       "      <th>max</th>\n",
       "      <td>1.000000</td>\n",
       "      <td>1.000000</td>\n",
       "      <td>1.000000</td>\n",
       "      <td>1.000000</td>\n",
       "    </tr>\n",
       "  </tbody>\n",
       "</table>\n",
       "</div>"
      ],
      "text/plain": [
       "ID_REF       CO: 3       CO: 4       CO: 5       CO: 6\n",
       "count   340.000000  340.000000  340.000000  340.000000\n",
       "mean      0.244118    0.150000    0.429412    0.588235\n",
       "std       0.430196    0.357598    0.495722    0.492878\n",
       "min       0.000000    0.000000    0.000000    0.000000\n",
       "25%       0.000000    0.000000    0.000000    0.000000\n",
       "50%       0.000000    0.000000    0.000000    1.000000\n",
       "75%       0.000000    0.000000    1.000000    1.000000\n",
       "max       1.000000    1.000000    1.000000    1.000000"
      ]
     },
     "execution_count": 8,
     "metadata": {},
     "output_type": "execute_result"
    }
   ],
   "source": [
    "gene_data_2.iloc[:,n2-4:n2].describe()"
   ]
  },
  {
   "cell_type": "code",
   "execution_count": 9,
   "metadata": {},
   "outputs": [],
   "source": [
    "data_gene_2=gene_data_2.iloc[:,0:n2-4]"
   ]
  },
  {
   "cell_type": "markdown",
   "metadata": {},
   "source": [
    "## Data Visualisation"
   ]
  },
  {
   "cell_type": "code",
   "execution_count": 10,
   "metadata": {},
   "outputs": [
    {
     "name": "stdout",
     "output_type": "stream",
     "text": [
      "0.0    97\n",
      "1.0    33\n",
      "Name: CO: 1, dtype: int64\n"
     ]
    },
    {
     "name": "stderr",
     "output_type": "stream",
     "text": [
      "c:\\python\\python38\\lib\\site-packages\\seaborn\\_decorators.py:36: FutureWarning: Pass the following variable as a keyword arg: x. From version 0.12, the only valid positional argument will be `data`, and passing other arguments without an explicit keyword will result in an error or misinterpretation.\n",
      "  warnings.warn(\n"
     ]
    },
    {
     "data": {
      "text/plain": [
       "<AxesSubplot:xlabel='CO: 1', ylabel='count'>"
      ]
     },
     "execution_count": 10,
     "metadata": {},
     "output_type": "execute_result"
    },
    {
     "data": {
      "image/png": "[encoded data removed]",
      "text/plain": [
       "<Figure size 432x288 with 1 Axes>"
      ]
     },
     "metadata": {},
     "output_type": "display_data"
    }
   ],
   "source": [
    "print(gene_data_1['CO: 1'].value_counts())\n",
    "sns.countplot(gene_data_1['CO: 1'])"
   ]
  },
  {
   "cell_type": "code",
   "execution_count": 11,
   "metadata": {},
   "outputs": [
    {
     "name": "stdout",
     "output_type": "stream",
     "text": [
      "0.0    77\n",
      "1.0    53\n",
      "Name: CO: 2, dtype: int64\n"
     ]
    },
    {
     "name": "stderr",
     "output_type": "stream",
     "text": [
      "c:\\python\\python38\\lib\\site-packages\\seaborn\\_decorators.py:36: FutureWarning: Pass the following variable as a keyword arg: x. From version 0.12, the only valid positional argument will be `data`, and passing other arguments without an explicit keyword will result in an error or misinterpretation.\n",
      "  warnings.warn(\n"
     ]
    },
    {
     "data": {
      "text/plain": [
       "<AxesSubplot:xlabel='CO: 2', ylabel='count'>"
      ]
     },
     "execution_count": 11,
     "metadata": {},
     "output_type": "execute_result"
    },
    {
     "data": {
      "image/png": "[encoded data removed]",
      "text/plain": [
       "<Figure size 432x288 with 1 Axes>"
      ]
     },
     "metadata": {},
     "output_type": "display_data"
    }
   ],
   "source": [
    "print(gene_data_1['CO: 2'].value_counts())\n",
    "sns.countplot(gene_data_1['CO: 2'])"
   ]
  },
  {
   "cell_type": "code",
   "execution_count": 12,
   "metadata": {},
   "outputs": [
    {
     "name": "stdout",
     "output_type": "stream",
     "text": [
      "0.0    257\n",
      "1.0     83\n",
      "Name: CO: 3, dtype: int64\n"
     ]
    },
    {
     "name": "stderr",
     "output_type": "stream",
     "text": [
      "c:\\python\\python38\\lib\\site-packages\\seaborn\\_decorators.py:36: FutureWarning: Pass the following variable as a keyword arg: x. From version 0.12, the only valid positional argument will be `data`, and passing other arguments without an explicit keyword will result in an error or misinterpretation.\n",
      "  warnings.warn(\n"
     ]
    },
    {
     "data": {
      "text/plain": [
       "<AxesSubplot:xlabel='CO: 3', ylabel='count'>"
      ]
     },
     "execution_count": 12,
     "metadata": {},
     "output_type": "execute_result"
    },
    {
     "data": {
      "image/png": "[encoded data removed]",
      "text/plain": [
       "<Figure size 432x288 with 1 Axes>"
      ]
     },
     "metadata": {},
     "output_type": "display_data"
    }
   ],
   "source": [
    "print(gene_data_2['CO: 3'].value_counts())\n",
    "sns.countplot(gene_data_2['CO: 3'])"
   ]
  },
  {
   "cell_type": "code",
   "execution_count": 13,
   "metadata": {},
   "outputs": [
    {
     "name": "stdout",
     "output_type": "stream",
     "text": [
      "0.0    289\n",
      "1.0     51\n",
      "Name: CO: 4, dtype: int64\n"
     ]
    },
    {
     "name": "stderr",
     "output_type": "stream",
     "text": [
      "c:\\python\\python38\\lib\\site-packages\\seaborn\\_decorators.py:36: FutureWarning: Pass the following variable as a keyword arg: x. From version 0.12, the only valid positional argument will be `data`, and passing other arguments without an explicit keyword will result in an error or misinterpretation.\n",
      "  warnings.warn(\n"
     ]
    },
    {
     "data": {
      "text/plain": [
       "<AxesSubplot:xlabel='CO: 4', ylabel='count'>"
      ]
     },
     "execution_count": 13,
     "metadata": {},
     "output_type": "execute_result"
    },
    {
     "data": {
      "image/png": "[encoded data removed]",
      "text/plain": [
       "<Figure size 432x288 with 1 Axes>"
      ]
     },
     "metadata": {},
     "output_type": "display_data"
    }
   ],
   "source": [
    "print(gene_data_2['CO: 4'].value_counts())\n",
    "sns.countplot(gene_data_2['CO: 4'])"
   ]
  },
  {
   "cell_type": "code",
   "execution_count": 14,
   "metadata": {},
   "outputs": [
    {
     "name": "stdout",
     "output_type": "stream",
     "text": [
      "0.0    194\n",
      "1.0    146\n",
      "Name: CO: 5, dtype: int64\n"
     ]
    },
    {
     "name": "stderr",
     "output_type": "stream",
     "text": [
      "c:\\python\\python38\\lib\\site-packages\\seaborn\\_decorators.py:36: FutureWarning: Pass the following variable as a keyword arg: x. From version 0.12, the only valid positional argument will be `data`, and passing other arguments without an explicit keyword will result in an error or misinterpretation.\n",
      "  warnings.warn(\n"
     ]
    },
    {
     "data": {
      "text/plain": [
       "<AxesSubplot:xlabel='CO: 5', ylabel='count'>"
      ]
     },
     "execution_count": 14,
     "metadata": {},
     "output_type": "execute_result"
    },
    {
     "data": {
      "image/png": "[encoded data removed]",
      "text/plain": [
       "<Figure size 432x288 with 1 Axes>"
      ]
     },
     "metadata": {},
     "output_type": "display_data"
    }
   ],
   "source": [
    "print(gene_data_2['CO: 5'].value_counts())\n",
    "sns.countplot(gene_data_2['CO: 5'])"
   ]
  },
  {
   "cell_type": "code",
   "execution_count": 15,
   "metadata": {},
   "outputs": [
    {
     "name": "stdout",
     "output_type": "stream",
     "text": [
      "1.0    200\n",
      "0.0    140\n",
      "Name: CO: 6, dtype: int64\n"
     ]
    },
    {
     "name": "stderr",
     "output_type": "stream",
     "text": [
      "c:\\python\\python38\\lib\\site-packages\\seaborn\\_decorators.py:36: FutureWarning: Pass the following variable as a keyword arg: x. From version 0.12, the only valid positional argument will be `data`, and passing other arguments without an explicit keyword will result in an error or misinterpretation.\n",
      "  warnings.warn(\n"
     ]
    },
    {
     "data": {
      "text/plain": [
       "<AxesSubplot:xlabel='CO: 6', ylabel='count'>"
      ]
     },
     "execution_count": 15,
     "metadata": {},
     "output_type": "execute_result"
    },
    {
     "data": {
      "image/png": "[encoded data removed]",
      "text/plain": [
       "<Figure size 432x288 with 1 Axes>"
      ]
     },
     "metadata": {},
     "output_type": "display_data"
    }
   ],
   "source": [
    "print(gene_data_2['CO: 6'].value_counts())\n",
    "sns.countplot(gene_data_2['CO: 6'])"
   ]
  },
  {
   "cell_type": "code",
   "execution_count": 16,
   "metadata": {},
   "outputs": [
    {
     "data": {
      "text/plain": [
       "<AxesSubplot:xlabel='genes', ylabel='Train values'>"
      ]
     },
     "execution_count": 16,
     "metadata": {},
     "output_type": "execute_result"
    },
    {
     "data": {
      "image/png": "[encoded data removed]",
      "text/plain": [
       "<Figure size 3600x1440 with 1 Axes>"
      ]
     },
     "metadata": {},
     "output_type": "display_data"
    }
   ],
   "source": [
    "plt.figure(figsize=(50,20))\n",
    "data=pd.concat([gene_data_1.iloc[:,n1-2:n1-1],data_gene_1.iloc[:,0:25]],axis=1)\n",
    "data=pd.melt(data,id_vars=\"CO: 1\",var_name=\"genes\",value_name='Train values')\n",
    "sns.violinplot(x=\"genes\",y=\"Train values\",hue=\"CO: 1\",data=data,split=True,inner=\"quart\")"
   ]
  },
  {
   "cell_type": "code",
   "execution_count": 17,
   "metadata": {},
   "outputs": [],
   "source": [
    "#plt.figure(figsize=(15,5))\n",
    "#plt.hist(data_gene_1,bins=100)"
   ]
  },
  {
   "cell_type": "code",
   "execution_count": 18,
   "metadata": {},
   "outputs": [],
   "source": [
    "#sns.distplot(data_gene_1)"
   ]
  },
  {
   "cell_type": "code",
   "execution_count": 19,
   "metadata": {},
   "outputs": [],
   "source": [
    "#plt.figure(figsize=(15,5))\n",
    "#plt.hist(data_gene_2,bins=100)"
   ]
  },
  {
   "cell_type": "code",
   "execution_count": 20,
   "metadata": {},
   "outputs": [],
   "source": [
    "#sns.distplot(data_gene_2)"
   ]
  },
  {
   "cell_type": "markdown",
   "metadata": {},
   "source": [
    "## Feature Engineering"
   ]
  },
  {
   "cell_type": "code",
   "execution_count": 21,
   "metadata": {
    "scrolled": false
   },
   "outputs": [
    {
     "name": "stderr",
     "output_type": "stream",
     "text": [
      "<ipython-input-21-66d69dda7550>:22: SettingWithCopyWarning: \n",
      "A value is trying to be set on a copy of a slice from a DataFrame.\n",
      "Try using .loc[row_indexer,col_indexer] = value instead\n",
      "\n",
      "See the caveats in the documentation: https://pandas.pydata.org/pandas-docs/stable/user_guide/indexing.html#returning-a-view-versus-a-copy\n",
      "  X1_data[X1_data<0]=0\n",
      "c:\\python\\python38\\lib\\site-packages\\pandas\\core\\frame.py:3215: SettingWithCopyWarning: \n",
      "A value is trying to be set on a copy of a slice from a DataFrame\n",
      "\n",
      "See the caveats in the documentation: https://pandas.pydata.org/pandas-docs/stable/user_guide/indexing.html#returning-a-view-versus-a-copy\n",
      "  self._where(-key, value, inplace=True)\n",
      "<ipython-input-21-66d69dda7550>:23: SettingWithCopyWarning: \n",
      "A value is trying to be set on a copy of a slice from a DataFrame.\n",
      "Try using .loc[row_indexer,col_indexer] = value instead\n",
      "\n",
      "See the caveats in the documentation: https://pandas.pydata.org/pandas-docs/stable/user_guide/indexing.html#returning-a-view-versus-a-copy\n",
      "  X2_data[X2_data<0]=0\n",
      "c:\\python\\python38\\lib\\site-packages\\pandas\\core\\frame.py:3215: SettingWithCopyWarning: \n",
      "A value is trying to be set on a copy of a slice from a DataFrame\n",
      "\n",
      "See the caveats in the documentation: https://pandas.pydata.org/pandas-docs/stable/user_guide/indexing.html#returning-a-view-versus-a-copy\n",
      "  self._where(-key, value, inplace=True)\n"
     ]
    }
   ],
   "source": [
    "X1_data=data_gene_1\n",
    "X2_data=data_gene_2\n",
    "Y1=gene_data_1.iloc[:,n1-2:n1-1]\n",
    "Y2=gene_data_1.iloc[:,n1-1:n1]\n",
    "Y3=gene_data_2.iloc[:,n2-4:n2-3]\n",
    "Y4=gene_data_2.iloc[:,n2-3:n2-2]\n",
    "Y5=gene_data_2.iloc[:,n2-2:n2-1]\n",
    "Y6=gene_data_2.iloc[:,n2-1:n2]\n",
    "\n",
    "Y1=np.ravel(Y1)\n",
    "Y2=np.ravel(Y2)\n",
    "Y3=np.ravel(Y3)\n",
    "Y4=np.ravel(Y4)\n",
    "Y5=np.ravel(Y5)\n",
    "Y6=np.ravel(Y6)\n",
    "\n",
    "#scaler=StandardScaler()\n",
    "#scaled_X1=scaler.fit_transform(X1_data)\n",
    "#scaled_X2=scaler.fit_transform(X2_data)\n",
    "#explained_variance_1=[]\n",
    "#explained_variance_2=[]\n",
    "X1_data[X1_data<0]=0\n",
    "X2_data[X2_data<0]=0\n",
    "\n",
    "#scaled_X1=X1_data\n",
    "#scaled_X2=X2_data\n",
    "\n",
    "#n1r=data_gene_1.shape[0]\n",
    "#n2r=data_gene_2.shape[0]"
   ]
  },
  {
   "cell_type": "code",
   "execution_count": 22,
   "metadata": {},
   "outputs": [
    {
     "name": "stdout",
     "output_type": "stream",
     "text": [
      "CO1:\n",
      " 0.0    97\n",
      "1.0    97\n",
      "Name: 0, dtype: int64\n",
      "CO2:\n",
      " 0.0    77\n",
      "1.0    77\n",
      "Name: 0, dtype: int64\n",
      "CO3:\n",
      " 0.0    257\n",
      "1.0    257\n",
      "Name: 0, dtype: int64\n",
      "CO4:\n",
      " 0.0    289\n",
      "1.0    289\n",
      "Name: 0, dtype: int64\n",
      "CO5:\n",
      " 0.0    194\n",
      "1.0    194\n",
      "Name: 0, dtype: int64\n",
      "CO6:\n",
      " 0.0    200\n",
      "1.0    200\n",
      "Name: 0, dtype: int64\n"
     ]
    }
   ],
   "source": [
    "scaled_X1,Y1=SMOTE(random_state=1234).fit_resample(X1_data,Y1)\n",
    "Y1=pd.DataFrame(Y1)\n",
    "print('CO1:\\n',Y1[0].value_counts())\n",
    "scaled_X2,Y2=SMOTE(random_state=1234).fit_resample(X1_data,Y2)\n",
    "Y2=pd.DataFrame(Y2)\n",
    "print('CO2:\\n',Y2[0].value_counts())\n",
    "scaled_X3,Y3=SMOTE(random_state=1234).fit_resample(X2_data,Y3)\n",
    "Y3=pd.DataFrame(Y3)\n",
    "print('CO3:\\n',Y3[0].value_counts())\n",
    "scaled_X4,Y4=SMOTE(random_state=1234).fit_resample(X2_data,Y4)\n",
    "Y4=pd.DataFrame(Y4)\n",
    "print('CO4:\\n',Y4[0].value_counts())\n",
    "scaled_X5,Y5=SMOTE(random_state=1234).fit_resample(X2_data,Y5)\n",
    "Y5=pd.DataFrame(Y5)\n",
    "print('CO5:\\n',Y5[0].value_counts())\n",
    "scaled_X6,Y6=SMOTE(random_state=1234).fit_resample(X2_data,Y6)\n",
    "Y6=pd.DataFrame(Y6)\n",
    "print('CO6:\\n',Y6[0].value_counts())"
   ]
  },
  {
   "cell_type": "code",
   "execution_count": 25,
   "metadata": {},
   "outputs": [
    {
     "name": "stdout",
     "output_type": "stream",
     "text": [
      "       0\n",
      "0    0.0\n",
      "1    0.0\n",
      "2    0.0\n",
      "3    0.0\n",
      "4    0.0\n",
      "..   ...\n",
      "189  1.0\n",
      "190  1.0\n",
      "191  1.0\n",
      "192  1.0\n",
      "193  1.0\n",
      "\n",
      "[194 rows x 1 columns]\n"
     ]
    },
    {
     "data": {
      "text/html": [
       "<div>\n",
       "<style scoped>\n",
       "    .dataframe tbody tr th:only-of-type {\n",
       "        vertical-align: middle;\n",
       "    }\n",
       "\n",
       "    .dataframe tbody tr th {\n",
       "        vertical-align: top;\n",
       "    }\n",
       "\n",
       "    .dataframe thead th {\n",
       "        text-align: right;\n",
       "    }\n",
       "</style>\n",
       "<table border=\"1\" class=\"dataframe\">\n",
       "  <thead>\n",
       "    <tr style=\"text-align: right;\">\n",
       "      <th>ID_REF</th>\n",
       "      <th>gene_1</th>\n",
       "      <th>gene_2</th>\n",
       "      <th>gene_3</th>\n",
       "      <th>gene_4</th>\n",
       "      <th>gene_5</th>\n",
       "      <th>gene_6</th>\n",
       "      <th>gene_7</th>\n",
       "      <th>gene_8</th>\n",
       "      <th>gene_9</th>\n",
       "      <th>gene_10</th>\n",
       "      <th>...</th>\n",
       "      <th>gene_22274</th>\n",
       "      <th>gene_22275</th>\n",
       "      <th>gene_22276</th>\n",
       "      <th>gene_22277</th>\n",
       "      <th>gene_22278</th>\n",
       "      <th>gene_22279</th>\n",
       "      <th>gene_22280</th>\n",
       "      <th>gene_22281</th>\n",
       "      <th>gene_22282</th>\n",
       "      <th>gene_22283</th>\n",
       "    </tr>\n",
       "  </thead>\n",
       "  <tbody>\n",
       "    <tr>\n",
       "      <th>count</th>\n",
       "      <td>194.000000</td>\n",
       "      <td>194.000000</td>\n",
       "      <td>194.000000</td>\n",
       "      <td>194.000000</td>\n",
       "      <td>194.000000</td>\n",
       "      <td>194.000000</td>\n",
       "      <td>194.000000</td>\n",
       "      <td>194.000000</td>\n",
       "      <td>194.000000</td>\n",
       "      <td>194.000000</td>\n",
       "      <td>...</td>\n",
       "      <td>194.000000</td>\n",
       "      <td>194.000000</td>\n",
       "      <td>194.000000</td>\n",
       "      <td>194.000000</td>\n",
       "      <td>194.000000</td>\n",
       "      <td>194.000000</td>\n",
       "      <td>194.000000</td>\n",
       "      <td>194.000000</td>\n",
       "      <td>194.000000</td>\n",
       "      <td>194.000000</td>\n",
       "    </tr>\n",
       "    <tr>\n",
       "      <th>mean</th>\n",
       "      <td>11.859554</td>\n",
       "      <td>8.337337</td>\n",
       "      <td>7.693681</td>\n",
       "      <td>10.084121</td>\n",
       "      <td>5.723561</td>\n",
       "      <td>8.911121</td>\n",
       "      <td>7.581813</td>\n",
       "      <td>5.812710</td>\n",
       "      <td>8.369214</td>\n",
       "      <td>6.198220</td>\n",
       "      <td>...</td>\n",
       "      <td>8.164672</td>\n",
       "      <td>8.864273</td>\n",
       "      <td>15.837653</td>\n",
       "      <td>15.551881</td>\n",
       "      <td>3.872229</td>\n",
       "      <td>3.887565</td>\n",
       "      <td>4.408992</td>\n",
       "      <td>3.348618</td>\n",
       "      <td>4.228228</td>\n",
       "      <td>2.900042</td>\n",
       "    </tr>\n",
       "    <tr>\n",
       "      <th>std</th>\n",
       "      <td>0.726191</td>\n",
       "      <td>0.624591</td>\n",
       "      <td>0.816216</td>\n",
       "      <td>0.694844</td>\n",
       "      <td>1.058129</td>\n",
       "      <td>0.600703</td>\n",
       "      <td>0.671014</td>\n",
       "      <td>1.130162</td>\n",
       "      <td>1.607009</td>\n",
       "      <td>0.792100</td>\n",
       "      <td>...</td>\n",
       "      <td>0.777916</td>\n",
       "      <td>0.680421</td>\n",
       "      <td>0.508364</td>\n",
       "      <td>0.524389</td>\n",
       "      <td>0.755790</td>\n",
       "      <td>0.895494</td>\n",
       "      <td>1.145396</td>\n",
       "      <td>1.244474</td>\n",
       "      <td>1.129691</td>\n",
       "      <td>0.834306</td>\n",
       "    </tr>\n",
       "    <tr>\n",
       "      <th>min</th>\n",
       "      <td>9.051900</td>\n",
       "      <td>5.355500</td>\n",
       "      <td>4.954200</td>\n",
       "      <td>8.151000</td>\n",
       "      <td>2.483300</td>\n",
       "      <td>7.084100</td>\n",
       "      <td>3.446600</td>\n",
       "      <td>2.786400</td>\n",
       "      <td>2.718500</td>\n",
       "      <td>2.394500</td>\n",
       "      <td>...</td>\n",
       "      <td>5.087300</td>\n",
       "      <td>6.017500</td>\n",
       "      <td>14.692600</td>\n",
       "      <td>14.252800</td>\n",
       "      <td>2.075000</td>\n",
       "      <td>2.089700</td>\n",
       "      <td>1.445700</td>\n",
       "      <td>0.414200</td>\n",
       "      <td>1.646800</td>\n",
       "      <td>0.792100</td>\n",
       "    </tr>\n",
       "    <tr>\n",
       "      <th>25%</th>\n",
       "      <td>11.342525</td>\n",
       "      <td>7.995115</td>\n",
       "      <td>7.375181</td>\n",
       "      <td>9.732875</td>\n",
       "      <td>5.233026</td>\n",
       "      <td>8.525775</td>\n",
       "      <td>7.227483</td>\n",
       "      <td>5.093083</td>\n",
       "      <td>7.490825</td>\n",
       "      <td>5.979875</td>\n",
       "      <td>...</td>\n",
       "      <td>7.678325</td>\n",
       "      <td>8.407550</td>\n",
       "      <td>15.539688</td>\n",
       "      <td>15.254650</td>\n",
       "      <td>3.446543</td>\n",
       "      <td>3.282610</td>\n",
       "      <td>3.574341</td>\n",
       "      <td>2.386364</td>\n",
       "      <td>3.307008</td>\n",
       "      <td>2.374033</td>\n",
       "    </tr>\n",
       "    <tr>\n",
       "      <th>50%</th>\n",
       "      <td>11.937600</td>\n",
       "      <td>8.371650</td>\n",
       "      <td>7.814148</td>\n",
       "      <td>10.284750</td>\n",
       "      <td>5.955829</td>\n",
       "      <td>8.972758</td>\n",
       "      <td>7.622785</td>\n",
       "      <td>6.057390</td>\n",
       "      <td>8.229417</td>\n",
       "      <td>6.264449</td>\n",
       "      <td>...</td>\n",
       "      <td>8.025200</td>\n",
       "      <td>8.817806</td>\n",
       "      <td>15.814791</td>\n",
       "      <td>15.520964</td>\n",
       "      <td>3.798825</td>\n",
       "      <td>3.754433</td>\n",
       "      <td>4.350706</td>\n",
       "      <td>3.287443</td>\n",
       "      <td>4.011600</td>\n",
       "      <td>2.856363</td>\n",
       "    </tr>\n",
       "    <tr>\n",
       "      <th>75%</th>\n",
       "      <td>12.364932</td>\n",
       "      <td>8.704875</td>\n",
       "      <td>8.079830</td>\n",
       "      <td>10.593909</td>\n",
       "      <td>6.421916</td>\n",
       "      <td>9.308225</td>\n",
       "      <td>7.997275</td>\n",
       "      <td>6.686800</td>\n",
       "      <td>9.618859</td>\n",
       "      <td>6.646300</td>\n",
       "      <td>...</td>\n",
       "      <td>8.538962</td>\n",
       "      <td>9.176700</td>\n",
       "      <td>16.083350</td>\n",
       "      <td>15.780817</td>\n",
       "      <td>4.184396</td>\n",
       "      <td>4.389417</td>\n",
       "      <td>5.324300</td>\n",
       "      <td>4.253356</td>\n",
       "      <td>5.171643</td>\n",
       "      <td>3.397247</td>\n",
       "    </tr>\n",
       "    <tr>\n",
       "      <th>max</th>\n",
       "      <td>13.901200</td>\n",
       "      <td>9.833900</td>\n",
       "      <td>10.899400</td>\n",
       "      <td>11.548300</td>\n",
       "      <td>7.734000</td>\n",
       "      <td>10.453900</td>\n",
       "      <td>9.257700</td>\n",
       "      <td>7.893300</td>\n",
       "      <td>11.733600</td>\n",
       "      <td>7.760100</td>\n",
       "      <td>...</td>\n",
       "      <td>12.418700</td>\n",
       "      <td>11.245800</td>\n",
       "      <td>17.648700</td>\n",
       "      <td>17.371200</td>\n",
       "      <td>6.966100</td>\n",
       "      <td>6.562500</td>\n",
       "      <td>6.996500</td>\n",
       "      <td>6.013100</td>\n",
       "      <td>6.735300</td>\n",
       "      <td>6.482600</td>\n",
       "    </tr>\n",
       "  </tbody>\n",
       "</table>\n",
       "<p>8 rows × 22283 columns</p>\n",
       "</div>"
      ],
      "text/plain": [
       "ID_REF      gene_1      gene_2      gene_3      gene_4      gene_5  \\\n",
       "count   194.000000  194.000000  194.000000  194.000000  194.000000   \n",
       "mean     11.859554    8.337337    7.693681   10.084121    5.723561   \n",
       "std       0.726191    0.624591    0.816216    0.694844    1.058129   \n",
       "min       9.051900    5.355500    4.954200    8.151000    2.483300   \n",
       "25%      11.342525    7.995115    7.375181    9.732875    5.233026   \n",
       "50%      11.937600    8.371650    7.814148   10.284750    5.955829   \n",
       "75%      12.364932    8.704875    8.079830   10.593909    6.421916   \n",
       "max      13.901200    9.833900   10.899400   11.548300    7.734000   \n",
       "\n",
       "ID_REF      gene_6      gene_7      gene_8      gene_9     gene_10  ...  \\\n",
       "count   194.000000  194.000000  194.000000  194.000000  194.000000  ...   \n",
       "mean      8.911121    7.581813    5.812710    8.369214    6.198220  ...   \n",
       "std       0.600703    0.671014    1.130162    1.607009    0.792100  ...   \n",
       "min       7.084100    3.446600    2.786400    2.718500    2.394500  ...   \n",
       "25%       8.525775    7.227483    5.093083    7.490825    5.979875  ...   \n",
       "50%       8.972758    7.622785    6.057390    8.229417    6.264449  ...   \n",
       "75%       9.308225    7.997275    6.686800    9.618859    6.646300  ...   \n",
       "max      10.453900    9.257700    7.893300   11.733600    7.760100  ...   \n",
       "\n",
       "ID_REF  gene_22274  gene_22275  gene_22276  gene_22277  gene_22278  \\\n",
       "count   194.000000  194.000000  194.000000  194.000000  194.000000   \n",
       "mean      8.164672    8.864273   15.837653   15.551881    3.872229   \n",
       "std       0.777916    0.680421    0.508364    0.524389    0.755790   \n",
       "min       5.087300    6.017500   14.692600   14.252800    2.075000   \n",
       "25%       7.678325    8.407550   15.539688   15.254650    3.446543   \n",
       "50%       8.025200    8.817806   15.814791   15.520964    3.798825   \n",
       "75%       8.538962    9.176700   16.083350   15.780817    4.184396   \n",
       "max      12.418700   11.245800   17.648700   17.371200    6.966100   \n",
       "\n",
       "ID_REF  gene_22279  gene_22280  gene_22281  gene_22282  gene_22283  \n",
       "count   194.000000  194.000000  194.000000  194.000000  194.000000  \n",
       "mean      3.887565    4.408992    3.348618    4.228228    2.900042  \n",
       "std       0.895494    1.145396    1.244474    1.129691    0.834306  \n",
       "min       2.089700    1.445700    0.414200    1.646800    0.792100  \n",
       "25%       3.282610    3.574341    2.386364    3.307008    2.374033  \n",
       "50%       3.754433    4.350706    3.287443    4.011600    2.856363  \n",
       "75%       4.389417    5.324300    4.253356    5.171643    3.397247  \n",
       "max       6.562500    6.996500    6.013100    6.735300    6.482600  \n",
       "\n",
       "[8 rows x 22283 columns]"
      ]
     },
     "execution_count": 25,
     "metadata": {},
     "output_type": "execute_result"
    }
   ],
   "source": [
    "print(Y1)\n",
    "Y1.describe()\n",
    "scaled_X1.describe()"
   ]
  },
  {
   "cell_type": "code",
   "execution_count": 23,
   "metadata": {},
   "outputs": [],
   "source": [
    "#for i in range(1,n1r+1):\n",
    "#    pca=PCA(n_components=i)\n",
    "#    pca.fit(scaled_X1)\n",
    "#    explained_variance_1.append(np.sum(pca.explained_variance_ratio_))\n",
    "#plt.plot(range(1,n1r+1),explained_variance_1)\n",
    "#plt.xlabel(\"Number of Components in dataset 1\")\n",
    "#plt.ylabel(\"Variance Explained in dataset 1\")"
   ]
  },
  {
   "cell_type": "code",
   "execution_count": 24,
   "metadata": {},
   "outputs": [],
   "source": [
    "#for i in range(1,n2r+1):\n",
    "#    pca=PCA(n_components=i)\n",
    "#    pca.fit(scaled_X2)\n",
    "#    explained_variance_2.append(np.sum(pca.explained_variance_ratio_))\n",
    "#plt.plot(range(1,n2r+1),explained_variance_2)\n",
    "#plt.xlabel(\"Number of Components in dataset 2\")\n",
    "#plt.ylabel(\"Variance Explained in dataset 2\")"
   ]
  },
  {
   "cell_type": "code",
   "execution_count": 25,
   "metadata": {},
   "outputs": [],
   "source": [
    "#model_1=PCA(n_components=100)\n",
    "#X1=model_1.fit_transform(scaled_X1)\n",
    "\n",
    "#model_2=PCA(n_components=100)\n",
    "#X2=model_2.fit_transform(scaled_X2)\n",
    "\n",
    "#X1=scaled_X1\n",
    "#X2=scaled_X2"
   ]
  },
  {
   "cell_type": "code",
   "execution_count": 26,
   "metadata": {},
   "outputs": [],
   "source": [
    "Y1=np.ravel(Y1)\n",
    "Y2=np.ravel(Y2)\n",
    "Y3=np.ravel(Y3)\n",
    "Y4=np.ravel(Y4)\n",
    "Y5=np.ravel(Y5)\n",
    "Y6=np.ravel(Y6)"
   ]
  },
  {
   "cell_type": "code",
   "execution_count": 26,
   "metadata": {},
   "outputs": [
    {
     "ename": "NameError",
     "evalue": "name 'f_classif' is not defined",
     "output_type": "error",
     "traceback": [
      "\u001b[1;31m---------------------------------------------------------------------------\u001b[0m",
      "\u001b[1;31mNameError\u001b[0m                                 Traceback (most recent call last)",
      "\u001b[1;32m<ipython-input-26-85be208376e7>\u001b[0m in \u001b[0;36m<module>\u001b[1;34m\u001b[0m\n\u001b[0;32m      1\u001b[0m \u001b[1;31m# k tells no of top features to be selected\u001b[0m\u001b[1;33m\u001b[0m\u001b[1;33m\u001b[0m\u001b[1;33m\u001b[0m\u001b[0m\n\u001b[0;32m      2\u001b[0m \u001b[1;31m# Score function Chi2 tells the feature to be selected using Chi Square\u001b[0m\u001b[1;33m\u001b[0m\u001b[1;33m\u001b[0m\u001b[1;33m\u001b[0m\u001b[0m\n\u001b[1;32m----> 3\u001b[1;33m \u001b[0mtest\u001b[0m\u001b[1;33m=\u001b[0m\u001b[0mSelectKBest\u001b[0m\u001b[1;33m(\u001b[0m\u001b[0mscore_func\u001b[0m\u001b[1;33m=\u001b[0m\u001b[0mf_classif\u001b[0m\u001b[1;33m,\u001b[0m\u001b[0mk\u001b[0m\u001b[1;33m=\u001b[0m\u001b[1;36m100\u001b[0m\u001b[1;33m)\u001b[0m\u001b[1;33m\u001b[0m\u001b[1;33m\u001b[0m\u001b[0m\n\u001b[0m\u001b[0;32m      4\u001b[0m \u001b[1;31m#test=SelectKBest(score_func=chi2,k=200)\u001b[0m\u001b[1;33m\u001b[0m\u001b[1;33m\u001b[0m\u001b[1;33m\u001b[0m\u001b[0m\n\u001b[0;32m      5\u001b[0m \u001b[1;31m#test=SelectKBest(score_func=chi2,k=100)\u001b[0m\u001b[1;33m\u001b[0m\u001b[1;33m\u001b[0m\u001b[1;33m\u001b[0m\u001b[0m\n",
      "\u001b[1;31mNameError\u001b[0m: name 'f_classif' is not defined"
     ]
    }
   ],
   "source": [
    "# k tells no of top features to be selected\n",
    "# Score function Chi2 tells the feature to be selected using Chi Square\n",
    "test=SelectKBest(score_func=f_classif,k=100)\n",
    "#test=SelectKBest(score_func=chi2,k=200)\n",
    "#test=SelectKBest(score_func=chi2,k=100)\n",
    "#test=SelectKBest(k=500)\n",
    "\n",
    "fit_1=test.fit(scaled_X1,Y1)\n",
    "fit_1.scores_\n",
    "X1=test.fit_transform(scaled_X1,Y1)\n",
    "features_1=test.get_feature_names_out()\n",
    "\n",
    "fit_2=test.fit(scaled_X2,Y2)\n",
    "fit_2.scores_\n",
    "X2=test.fit_transform(scaled_X2,Y2)\n",
    "features_2=test.get_feature_names_out()\n",
    "\n",
    "fit_3=test.fit(scaled_X3,Y3)\n",
    "fit_3.scores_\n",
    "X3=test.fit_transform(scaled_X3,Y3)\n",
    "features_3=test.get_feature_names_out()\n",
    "\n",
    "fit_4=test.fit(scaled_X4,Y4)\n",
    "fit_4.scores_\n",
    "X4=test.fit_transform(scaled_X4,Y4)\n",
    "features_4=test.get_feature_names_out()\n",
    "\n",
    "fit_5=test.fit(scaled_X5,Y5)\n",
    "fit_5.scores_\n",
    "X5=test.fit_transform(scaled_X5,Y5)\n",
    "features_5=test.get_feature_names_out()\n",
    "\n",
    "fit_6=test.fit(scaled_X6,Y6)\n",
    "fit_6.scores_\n",
    "X6=test.fit_transform(scaled_X6,Y6)\n",
    "features_6=test.get_feature_names_out()"
   ]
  },
  {
   "cell_type": "code",
   "execution_count": 28,
   "metadata": {},
   "outputs": [],
   "source": [
    "scaler=StandardScaler()\n",
    "X1=scaler.fit_transform(X1)\n",
    "X2=scaler.fit_transform(X2)\n",
    "X3=scaler.fit_transform(X3)\n",
    "X4=scaler.fit_transform(X4)\n",
    "X5=scaler.fit_transform(X5)\n",
    "X6=scaler.fit_transform(X6)"
   ]
  },
  {
   "cell_type": "markdown",
   "metadata": {},
   "source": [
    "## Training models"
   ]
  },
  {
   "cell_type": "code",
   "execution_count": 29,
   "metadata": {},
   "outputs": [],
   "source": [
    "#splitting training and validating set\n",
    "X_train1,X_val1,Y_train1,Y_val1=train_test_split(X1,Y1,test_size=0.3,random_state=0)\n",
    "X_train2,X_val2,Y_train2,Y_val2=train_test_split(X2,Y2,test_size=0.3,random_state=0)\n",
    "X_train3,X_val3,Y_train3,Y_val3=train_test_split(X3,Y3,test_size=0.3,random_state=0)\n",
    "X_train4,X_val4,Y_train4,Y_val4=train_test_split(X4,Y4,test_size=0.3,random_state=0)\n",
    "X_train5,X_val5,Y_train5,Y_val5=train_test_split(X5,Y5,test_size=0.3,random_state=0)\n",
    "X_train6,X_val6,Y_train6,Y_val6=train_test_split(X6,Y6,test_size=0.3,random_state=0)"
   ]
  },
  {
   "cell_type": "code",
   "execution_count": 30,
   "metadata": {},
   "outputs": [],
   "source": [
    "model1=GaussianNB()\n",
    "model2=LogisticRegression()\n",
    "model3=KNeighborsClassifier()\n",
    "model4=RandomForestClassifier(max_depth=16, random_state=0)\n",
    "model5=GradientBoostingClassifier(n_estimators=100,learning_rate=0.1,max_depth=1,random_state=0)\n",
    "model=[model1,model2,model3,model4,model5]"
   ]
  },
  {
   "cell_type": "code",
   "execution_count": 31,
   "metadata": {},
   "outputs": [
    {
     "name": "stdout",
     "output_type": "stream",
     "text": [
      "CO1:\n",
      "\n",
      "GaussianNB() :\n",
      "Accuracy Score: 79.66101694915254\n",
      "Evaluation score: 0.5995514939892591\n",
      "LogisticRegression() :\n",
      "Accuracy Score: 94.91525423728814\n",
      "Evaluation score: 0.8969653425430084\n",
      "KNeighborsClassifier() :\n",
      "Accuracy Score: 81.35593220338984\n",
      "Evaluation score: 0.6413734340835433\n",
      "RandomForestClassifier(max_depth=16, random_state=0) :\n",
      "Accuracy Score: 88.13559322033898\n",
      "Evaluation score: 0.7607479396592285\n",
      "GradientBoostingClassifier(max_depth=1, random_state=0) :\n",
      "Accuracy Score: 91.52542372881356\n",
      "Evaluation score: 0.8304992176989187\n"
     ]
    }
   ],
   "source": [
    "Y_pred1=[]\n",
    "print('CO1:\\n')\n",
    "for i in model:\n",
    "    i.fit(X_train1,Y_train1)\n",
    "    pred=i.predict(X_val1)\n",
    "    Y_pred1.append(pred)\n",
    "    score=accuracy_score(Y_val1,pred)*100\n",
    "    print(str(i),':')\n",
    "    PS=precision_score(Y_val1,pred)\n",
    "    RS=recall_score(Y_val1,pred)\n",
    "    cm=confusion_matrix(Y_val1,pred)\n",
    "    TN=cm[0][0]\n",
    "    FN=cm[1][0]\n",
    "    TP=cm[1][1]\n",
    "    FP=cm[0][1]\n",
    "    MCC=(TN*TP-FN*FP)/((TN+FN)*(TN+FP)*(TP+FN)*(TP+FP))**0.5\n",
    "    print('Accuracy Score:',score)\n",
    "    print('Evaluation score:',MCC)"
   ]
  },
  {
   "cell_type": "code",
   "execution_count": 32,
   "metadata": {},
   "outputs": [
    {
     "name": "stdout",
     "output_type": "stream",
     "text": [
      "CO2:\n",
      "\n",
      "GaussianNB() :\n",
      "Accuracy Score: 76.59574468085107\n",
      "Evaluation score: 0.5421109737369988\n",
      "LogisticRegression() :\n",
      "Accuracy Score: 80.85106382978722\n",
      "Evaluation score: 0.6209166124476994\n",
      "KNeighborsClassifier() :\n",
      "Accuracy Score: 76.59574468085107\n",
      "Evaluation score: 0.5542269253708124\n",
      "RandomForestClassifier(max_depth=16, random_state=0) :\n",
      "Accuracy Score: 80.85106382978722\n",
      "Evaluation score: 0.6209166124476994\n",
      "GradientBoostingClassifier(max_depth=1, random_state=0) :\n",
      "Accuracy Score: 80.85106382978722\n",
      "Evaluation score: 0.6170609073445336\n"
     ]
    }
   ],
   "source": [
    "Y_pred2=[]\n",
    "print('CO2:\\n')\n",
    "for i in model:\n",
    "    i.fit(X_train2,Y_train2)\n",
    "    pred=i.predict(X_val2)\n",
    "    Y_pred2.append(pred)\n",
    "    score=accuracy_score(Y_val2,pred)*100\n",
    "    print(str(i),':')\n",
    "    PS=precision_score(Y_val2,pred)\n",
    "    RS=recall_score(Y_val2,pred)\n",
    "    cm=confusion_matrix(Y_val2,pred)\n",
    "    TN=cm[0][0]\n",
    "    FN=cm[1][0]\n",
    "    TP=cm[1][1]\n",
    "    FP=cm[0][1]\n",
    "    MCC=(TN*TP-FN*FP)/((TN+FN)*(TN+FP)*(TP+FN)*(TP+FP))**0.5\n",
    "    print('Accuracy Score:',score)\n",
    "    print('Evaluation score:',MCC)"
   ]
  },
  {
   "cell_type": "code",
   "execution_count": 33,
   "metadata": {},
   "outputs": [
    {
     "name": "stdout",
     "output_type": "stream",
     "text": [
      "CO3:\n",
      "\n",
      "GaussianNB() :\n",
      "Accuracy Score: 82.58064516129032\n",
      "Evaluation score: 0.654473535882559\n",
      "LogisticRegression() :\n",
      "Accuracy Score: 87.09677419354838\n",
      "Evaluation score: 0.7585674494892168\n",
      "KNeighborsClassifier() :\n",
      "Accuracy Score: 52.903225806451616\n",
      "Evaluation score: 0.15394255231285187\n",
      "RandomForestClassifier(max_depth=16, random_state=0) :\n",
      "Accuracy Score: 92.25806451612904\n",
      "Evaluation score: 0.8454621266272296\n",
      "GradientBoostingClassifier(max_depth=1, random_state=0) :\n",
      "Accuracy Score: 87.09677419354838\n",
      "Evaluation score: 0.7483856933657224\n"
     ]
    }
   ],
   "source": [
    "Y_pred3=[]\n",
    "print('CO3:\\n')\n",
    "for i in model:\n",
    "    i.fit(X_train3,Y_train3)\n",
    "    pred=i.predict(X_val3)\n",
    "    Y_pred3.append(pred)\n",
    "    score=accuracy_score(Y_val3,pred)*100\n",
    "    print(str(i),':')\n",
    "    PS=precision_score(Y_val3,pred)\n",
    "    RS=recall_score(Y_val3,pred)\n",
    "    cm=confusion_matrix(Y_val3,pred)\n",
    "    TN=cm[0][0]\n",
    "    FN=cm[1][0]\n",
    "    TP=cm[1][1]\n",
    "    FP=cm[0][1]\n",
    "    MCC=(TN*TP-FN*FP)/((TN+FN)*(TN+FP)*(TP+FN)*(TP+FP))**0.5\n",
    "    print('Accuracy Score:',score)\n",
    "    print('Evaluation score:',MCC)"
   ]
  },
  {
   "cell_type": "code",
   "execution_count": 34,
   "metadata": {},
   "outputs": [
    {
     "name": "stdout",
     "output_type": "stream",
     "text": [
      "CO4:\n",
      "\n",
      "GaussianNB() :\n",
      "Accuracy Score: 82.18390804597702\n",
      "Evaluation score: 0.6519880935901258\n",
      "LogisticRegression() :\n",
      "Accuracy Score: 93.67816091954023\n",
      "Evaluation score: 0.8739170530087023\n",
      "KNeighborsClassifier() :\n",
      "Accuracy Score: 54.59770114942529\n",
      "Evaluation score: 0.19337775979463945\n",
      "RandomForestClassifier(max_depth=16, random_state=0) :\n",
      "Accuracy Score: 92.52873563218391\n",
      "Evaluation score: 0.8520992201133388\n",
      "GradientBoostingClassifier(max_depth=1, random_state=0) :\n",
      "Accuracy Score: 89.65517241379311\n",
      "Evaluation score: 0.793313097618217\n"
     ]
    }
   ],
   "source": [
    "Y_pred4=[]\n",
    "print('CO4:\\n')\n",
    "for i in model:\n",
    "    i.fit(X_train4,Y_train4)\n",
    "    pred=i.predict(X_val4)\n",
    "    Y_pred4.append(pred)\n",
    "    score=accuracy_score(Y_val4,pred)*100\n",
    "    print(str(i),':')\n",
    "    PS=precision_score(Y_val4,pred)\n",
    "    RS=recall_score(Y_val4,pred)\n",
    "    cm=confusion_matrix(Y_val4,pred)\n",
    "    TN=cm[0][0]\n",
    "    FN=cm[1][0]\n",
    "    TP=cm[1][1]\n",
    "    FP=cm[0][1]\n",
    "    MCC=(TN*TP-FN*FP)/((TN+FN)*(TN+FP)*(TP+FN)*(TP+FP))**0.5\n",
    "    print('Accuracy Score:',score)\n",
    "    print('Evaluation score:',MCC)"
   ]
  },
  {
   "cell_type": "code",
   "execution_count": 35,
   "metadata": {},
   "outputs": [
    {
     "name": "stdout",
     "output_type": "stream",
     "text": [
      "CO5:\n",
      "\n",
      "GaussianNB() :\n",
      "Accuracy Score: 89.74358974358975\n",
      "Evaluation score: 0.805814436514403\n",
      "LogisticRegression() :\n",
      "Accuracy Score: 92.3076923076923\n",
      "Evaluation score: 0.8469686474269935\n",
      "KNeighborsClassifier() :\n",
      "Accuracy Score: 75.21367521367522\n",
      "Evaluation score: 0.5754693659348942\n",
      "RandomForestClassifier(max_depth=16, random_state=0) :\n",
      "Accuracy Score: 86.32478632478633\n",
      "Evaluation score: 0.7466228396982014\n",
      "GradientBoostingClassifier(max_depth=1, random_state=0) :\n",
      "Accuracy Score: 90.5982905982906\n",
      "Evaluation score: 0.8209612675065708\n"
     ]
    }
   ],
   "source": [
    "Y_pred5=[]\n",
    "print('CO5:\\n')\n",
    "for i in model:\n",
    "    i.fit(X_train5,Y_train5)\n",
    "    pred=i.predict(X_val5)\n",
    "    Y_pred5.append(pred)\n",
    "    score=accuracy_score(Y_val5,pred)*100\n",
    "    print(str(i),':')\n",
    "    PS=precision_score(Y_val5,pred)\n",
    "    RS=recall_score(Y_val5,pred)\n",
    "    cm=confusion_matrix(Y_val5,pred)\n",
    "    TN=cm[0][0]\n",
    "    FN=cm[1][0]\n",
    "    TP=cm[1][1]\n",
    "    FP=cm[0][1]\n",
    "    MCC=(TN*TP-FN*FP)/((TN+FN)*(TN+FP)*(TP+FN)*(TP+FP))**0.5\n",
    "    print('Accuracy Score:',score)\n",
    "    print('Evaluation score:',MCC)"
   ]
  },
  {
   "cell_type": "code",
   "execution_count": 36,
   "metadata": {},
   "outputs": [
    {
     "name": "stdout",
     "output_type": "stream",
     "text": [
      "CO6:\n",
      "\n",
      "GaussianNB() :\n",
      "Accuracy Score: 69.16666666666667\n",
      "Evaluation score: 0.39077846368315633\n",
      "LogisticRegression() :\n",
      "Accuracy Score: 74.16666666666667\n",
      "Evaluation score: 0.48836260175331186\n",
      "KNeighborsClassifier() :\n",
      "Accuracy Score: 55.833333333333336\n",
      "Evaluation score: 0.14717777039140906\n",
      "RandomForestClassifier(max_depth=16, random_state=0) :\n",
      "Accuracy Score: 65.83333333333333\n",
      "Evaluation score: 0.3380765114113058\n",
      "GradientBoostingClassifier(max_depth=1, random_state=0) :\n",
      "Accuracy Score: 68.33333333333333\n",
      "Evaluation score: 0.37892238288809893\n"
     ]
    }
   ],
   "source": [
    "Y_pred6=[]\n",
    "print('CO6:\\n')\n",
    "for i in model:\n",
    "    i.fit(X_train6,Y_train6)\n",
    "    pred=i.predict(X_val6)\n",
    "    Y_pred6.append(pred)\n",
    "    score=accuracy_score(Y_val6,pred)*100\n",
    "    print(str(i),':')\n",
    "    PS=precision_score(Y_val6,pred)\n",
    "    RS=recall_score(Y_val6,pred)\n",
    "    cm=confusion_matrix(Y_val6,pred)\n",
    "    TN=cm[0][0]\n",
    "    FN=cm[1][0]\n",
    "    TP=cm[1][1]\n",
    "    FP=cm[0][1]\n",
    "    MCC=(TN*TP-FN*FP)/((TN+FN)*(TN+FP)*(TP+FN)*(TP+FP))**0.5\n",
    "    print('Accuracy Score:',score)\n",
    "    print('Evaluation score:',MCC)"
   ]
  },
  {
   "cell_type": "markdown",
   "metadata": {},
   "source": [
    "## Test evaluation"
   ]
  },
  {
   "cell_type": "code",
   "execution_count": 37,
   "metadata": {},
   "outputs": [],
   "source": [
    "gene_test_data_1=pd.read_csv('Dataset_1_Testing.csv',index_col='ID_REF')\n",
    "gene_test_data_1=gene_test_data_1.T\n",
    "\n",
    "gene_test_data_2=pd.read_csv('Dataset_2_Testing.csv',index_col='ID_REF')\n",
    "gene_test_data_2=gene_test_data_2.T"
   ]
  },
  {
   "cell_type": "code",
   "execution_count": 38,
   "metadata": {},
   "outputs": [],
   "source": [
    "gene_test_data_1[gene_test_data_1<0]=0\n",
    "gene_test_data_2[gene_test_data_2<0]=0\n",
    "\n",
    "Xtest_1=gene_test_data_1.reindex(columns=features_1)\n",
    "Xtest_2=gene_test_data_1.reindex(columns=features_2)\n",
    "Xtest_3=gene_test_data_2.reindex(columns=features_3)\n",
    "Xtest_4=gene_test_data_2.reindex(columns=features_4)\n",
    "Xtest_5=gene_test_data_2.reindex(columns=features_5)\n",
    "Xtest_6=gene_test_data_2.reindex(columns=features_6)"
   ]
  },
  {
   "cell_type": "code",
   "execution_count": 39,
   "metadata": {},
   "outputs": [],
   "source": [
    "scaler=StandardScaler()\n",
    "Xtest_1=scaler.fit_transform(Xtest_1)\n",
    "Xtest_2=scaler.fit_transform(Xtest_2)\n",
    "Xtest_3=scaler.fit_transform(Xtest_3)\n",
    "Xtest_4=scaler.fit_transform(Xtest_4)\n",
    "Xtest_5=scaler.fit_transform(Xtest_5)\n",
    "Xtest_6=scaler.fit_transform(Xtest_6)"
   ]
  },
  {
   "cell_type": "code",
   "execution_count": 40,
   "metadata": {},
   "outputs": [],
   "source": [
    "model=LogisticRegression()\n",
    "model2=RandomForestClassifier(max_depth=16,random_state=0)\n",
    "#model=GradientBoostingClassifier(n_estimators=100,learning_rate=0.1,max_depth=1,random_state=0)\n",
    "#model2=GaussianNB()\n",
    "\n",
    "model.fit(X1,Y1)\n",
    "pred_1=model.predict(Xtest_1)\n",
    "pred_1=pred_1.astype('int32')\n",
    "\n",
    "model.fit(X2,Y2)\n",
    "pred_2=model.predict(Xtest_2)\n",
    "pred_2=pred_2.astype('int32')\n",
    "\n",
    "model2.fit(X3,Y3)\n",
    "pred_3=model2.predict(Xtest_3)\n",
    "pred_3=pred_3.astype('int32')\n",
    "\n",
    "model.fit(X4,Y4)\n",
    "pred_4=model.predict(Xtest_4)\n",
    "pred_4=pred_4.astype('int32')\n",
    "\n",
    "model.fit(X5,Y5)\n",
    "pred_5=model.predict(Xtest_5)\n",
    "pred_5=pred_5.astype('int32')\n",
    "\n",
    "model.fit(X6,Y6)\n",
    "pred_6=model.predict(Xtest_6)\n",
    "pred_6=pred_6.astype('int32')"
   ]
  },
  {
   "cell_type": "code",
   "execution_count": 41,
   "metadata": {},
   "outputs": [
    {
     "data": {
      "text/html": [
       "<div>\n",
       "<style scoped>\n",
       "    .dataframe tbody tr th:only-of-type {\n",
       "        vertical-align: middle;\n",
       "    }\n",
       "\n",
       "    .dataframe tbody tr th {\n",
       "        vertical-align: top;\n",
       "    }\n",
       "\n",
       "    .dataframe thead th {\n",
       "        text-align: right;\n",
       "    }\n",
       "</style>\n",
       "<table border=\"1\" class=\"dataframe\">\n",
       "  <thead>\n",
       "    <tr style=\"text-align: right;\">\n",
       "      <th></th>\n",
       "      <th>Id</th>\n",
       "      <th>Predicted</th>\n",
       "    </tr>\n",
       "  </thead>\n",
       "  <tbody>\n",
       "    <tr>\n",
       "      <th>0</th>\n",
       "      <td>0</td>\n",
       "      <td>0</td>\n",
       "    </tr>\n",
       "    <tr>\n",
       "      <th>1</th>\n",
       "      <td>1</td>\n",
       "      <td>1</td>\n",
       "    </tr>\n",
       "    <tr>\n",
       "      <th>2</th>\n",
       "      <td>2</td>\n",
       "      <td>1</td>\n",
       "    </tr>\n",
       "    <tr>\n",
       "      <th>3</th>\n",
       "      <td>3</td>\n",
       "      <td>0</td>\n",
       "    </tr>\n",
       "    <tr>\n",
       "      <th>4</th>\n",
       "      <td>4</td>\n",
       "      <td>0</td>\n",
       "    </tr>\n",
       "  </tbody>\n",
       "</table>\n",
       "</div>"
      ],
      "text/plain": [
       "   Id  Predicted\n",
       "0   0          0\n",
       "1   1          1\n",
       "2   2          1\n",
       "3   3          0\n",
       "4   4          0"
      ]
     },
     "execution_count": 41,
     "metadata": {},
     "output_type": "execute_result"
    }
   ],
   "source": [
    "Y_test_1=pd.DataFrame(pred_1,columns=['Predicted'])\n",
    "id1=pd.DataFrame(list(range(0,100)),columns=['Id'])\n",
    "CO1=pd.concat([id1,Y_test_1],join='outer',axis=1)\n",
    "\n",
    "Y_test_2=pd.DataFrame(pred_2,columns=['Predicted'])\n",
    "id2=pd.DataFrame(list(range(100,200)),columns=['Id'])\n",
    "CO2=pd.concat([id2,Y_test_2],join='outer',axis=1)\n",
    "\n",
    "Y_test_3=pd.DataFrame(pred_3,columns=['Predicted'])\n",
    "id3=pd.DataFrame(list(range(200,414)),columns=['Id'])\n",
    "CO3=pd.concat([id3,Y_test_3],join='outer',axis=1)\n",
    "\n",
    "Y_test_4=pd.DataFrame(pred_4,columns=['Predicted'])\n",
    "id4=pd.DataFrame(list(range(414,628)),columns=['Id'])\n",
    "CO4=pd.concat([id4,Y_test_4],join='outer',axis=1)\n",
    "\n",
    "Y_test_5=pd.DataFrame(pred_5,columns=['Predicted'])\n",
    "id5=pd.DataFrame(list(range(628,842)),columns=['Id'])\n",
    "CO5=pd.concat([id5,Y_test_5],join='outer',axis=1)\n",
    "\n",
    "Y_test_6=pd.DataFrame(pred_6,columns=['Predicted'])\n",
    "id6=pd.DataFrame(list(range(842,1056)),columns=['Id'])\n",
    "CO6=pd.concat([id6,Y_test_6],join='outer',axis=1)\n",
    "\n",
    "result=CO1.append(CO2,ignore_index=True)\n",
    "result=result.append(CO3,ignore_index=True)\n",
    "result=result.append(CO4,ignore_index=True)\n",
    "result=result.append(CO5,ignore_index=True)\n",
    "result=result.append(CO6,ignore_index=True)\n",
    "result.head()"
   ]
  },
  {
   "cell_type": "code",
   "execution_count": 42,
   "metadata": {},
   "outputs": [],
   "source": [
    "result.to_csv('results.csv',index=False)"
   ]
  }
 ],
 "metadata": {
  "kernelspec": {
   "display_name": "Python 3",
   "language": "python",
   "name": "python3"
  },
  "language_info": {
   "codemirror_mode": {
    "name": "ipython",
    "version": 3
   },
   "file_extension": ".py",
   "mimetype": "text/x-python",
   "name": "python",
   "nbconvert_exporter": "python",
   "pygments_lexer": "ipython3",
   "version": "3.8.3"
  }
 },
 "nbformat": 4,
 "nbformat_minor": 4
}
